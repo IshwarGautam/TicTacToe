{
 "cells": [
  {
   "cell_type": "markdown",
   "metadata": {},
   "source": [
    "# Tic Tac Toe game in python"
   ]
  },
  {
   "cell_type": "code",
   "execution_count": null,
   "metadata": {},
   "outputs": [],
   "source": [
    "_ | _ | _\n",
    "_ | _ | _\n",
    "_ | _ | _"
   ]
  },
  {
   "cell_type": "code",
   "execution_count": null,
   "metadata": {},
   "outputs": [],
   "source": [
    "from IPython.display import clear_output\n",
    "board = {'7': ' ' , '8': ' ' , '9': ' ' ,\n",
    "         '4': ' ' , '5': ' ' , '6': ' ' ,\n",
    "         '1': ' ' , '2': ' ' , '3': ' ' }\n",
    "def PrintBoard(board):\n",
    "    print(board['7'] + '|' + board['8'] + '|' + board['9'])\n",
    "    print('-+-+-')\n",
    "    print(board['4'] + '|' + board['5'] + '|' + board['6'])\n",
    "    print('-+-+-')\n",
    "    print(board['1'] + '|' + board['2'] + '|' + board['3'])\n",
    "\n",
    "def game():\n",
    "    turn = 'O'\n",
    "    count= 0\n",
    "    while True:\n",
    "        PrintBoard(board)\n",
    "        move= input(\"It's your turn \"+turn+\". Which place do you want to move?\")\n",
    "        clear_output()\n",
    "        if board[move] ==' ':\n",
    "            board[move] =turn\n",
    "            count+=1\n",
    "        else:\n",
    "            print(\"The place is already occupied. Try next one: \")\n",
    "            continue\n",
    "            \n",
    "         #Now we will check if player X or Y won or not\n",
    "        if board['7']==board['8']==board['9'] != ' ':\n",
    "            print(\"\\n Game over \\n\")\n",
    "            print(\"***** \"+turn+\" won. ****\")\n",
    "            break\n",
    "        elif board['4']==board['5']==board['6'] != ' ':\n",
    "            print(\"\\n Game over \\n\")\n",
    "            print(\"***** \" +turn+\" won. ****\")\n",
    "            break\n",
    "        elif board['1']==board['2']==board['3'] != ' ':\n",
    "            print(\"\\n Game over \\n\")\n",
    "            print(\"***** \"+turn+\" won. ****\")\n",
    "            break\n",
    "        elif board['1']==board['4']==board['7'] != ' ':\n",
    "            print(\"\\n Game over \\n\")\n",
    "            print(\"***** \"+turn+\" won. ****\")\n",
    "            break\n",
    "        elif board['2']==board['5']==board['8'] != ' ':\n",
    "            print(\"\\n Game over \\n\")\n",
    "            print(\"***** \"+turn+\" won. ****\")\n",
    "            break\n",
    "        elif board['3']==board['6']==board['9'] != ' ':\n",
    "            print(\"\\n Game over \\n\")\n",
    "            print(\"***** \"+turn+\" won. ****\")\n",
    "            break\n",
    "        elif board['7']==board['5']==board['3'] != ' ':\n",
    "            print(\"\\n Game over \\n\")\n",
    "            print(\"***** \"+turn+\" won. ****\")\n",
    "            break\n",
    "        elif board['1']==board['5']==board['9'] != ' ':\n",
    "            print(\"\\n Game over \\n\")\n",
    "            print(\"***** \"+turn+\" won. ****\")\n",
    "            break\n",
    "            \n",
    "        #incase neither X or O get won\n",
    "        if count==9:\n",
    "            print(\"Game over!! \\n\")\n",
    "            print(\"The game is Draw!!\")\n",
    "            break\n",
    "            \n",
    "        #changing the player\n",
    "        if turn == 'O':\n",
    "            turn='X'\n",
    "        else:\n",
    "            turn='O'\n",
    "game()\n",
    "            "
   ]
  }
 ],
 "metadata": {
  "kernelspec": {
   "display_name": "Python 3",
   "language": "python",
   "name": "python3"
  },
  "language_info": {
   "codemirror_mode": {
    "name": "ipython",
    "version": 3
   },
   "file_extension": ".py",
   "mimetype": "text/x-python",
   "name": "python",
   "nbconvert_exporter": "python",
   "pygments_lexer": "ipython3",
   "version": "3.8.1"
  }
 },
 "nbformat": 4,
 "nbformat_minor": 4
}
